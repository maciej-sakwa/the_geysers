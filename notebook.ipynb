{
 "cells": [
  {
   "attachments": {},
   "cell_type": "markdown",
   "metadata": {},
   "source": [
    "## Ilinois Basin data preliminary analysis"
   ]
  },
  {
   "attachments": {},
   "cell_type": "markdown",
   "metadata": {},
   "source": [
    "### Imports"
   ]
  },
  {
   "cell_type": "code",
   "execution_count": 1,
   "metadata": {},
   "outputs": [],
   "source": [
    "import numpy as np\n",
    "import pandas as pd\n",
    "import matplotlib.pyplot as plt\n",
    "from data_preparation import Catalogue\n",
    "from tqdm import tqdm\n",
    "import os\n",
    "import pickle\n",
    "from clustering_module import ScipyHierarchy, EvaluateClustering"
   ]
  },
  {
   "attachments": {},
   "cell_type": "markdown",
   "metadata": {},
   "source": [
    "### Data analysis"
   ]
  },
  {
   "cell_type": "code",
   "execution_count": 2,
   "metadata": {},
   "outputs": [],
   "source": [
    "raw_catalogue = pd.read_excel(r'../data/illinois_basin/data/DD_relocations_catalogue_20200428_regionletters_95pcnt_confidence.xlsx', sheet_name='Local_crs_metres', index_col=[0])"
   ]
  },
  {
   "attachments": {},
   "cell_type": "markdown",
   "metadata": {},
   "source": [
    "The 'latitude' 'longitude' are in reality relative northing/easting positions"
   ]
  },
  {
   "cell_type": "code",
   "execution_count": 3,
   "metadata": {},
   "outputs": [
    {
     "data": {
      "text/html": [
       "<div>\n",
       "<style scoped>\n",
       "    .dataframe tbody tr th:only-of-type {\n",
       "        vertical-align: middle;\n",
       "    }\n",
       "\n",
       "    .dataframe tbody tr th {\n",
       "        vertical-align: top;\n",
       "    }\n",
       "\n",
       "    .dataframe thead th {\n",
       "        text-align: right;\n",
       "    }\n",
       "</style>\n",
       "<table border=\"1\" class=\"dataframe\">\n",
       "  <thead>\n",
       "    <tr style=\"text-align: right;\">\n",
       "      <th></th>\n",
       "      <th>event_time</th>\n",
       "      <th>Latitude</th>\n",
       "      <th>Longitude</th>\n",
       "      <th>Depthkm</th>\n",
       "      <th>magnitude</th>\n",
       "    </tr>\n",
       "    <tr>\n",
       "      <th>NORSAR_ID</th>\n",
       "      <th></th>\n",
       "      <th></th>\n",
       "      <th></th>\n",
       "      <th></th>\n",
       "      <th></th>\n",
       "    </tr>\n",
       "  </thead>\n",
       "  <tbody>\n",
       "    <tr>\n",
       "      <th>2636</th>\n",
       "      <td>2012-10-07 21:42:31.324</td>\n",
       "      <td>1613.611</td>\n",
       "      <td>-1833.372</td>\n",
       "      <td>2213.762</td>\n",
       "      <td>-0.34</td>\n",
       "    </tr>\n",
       "    <tr>\n",
       "      <th>2647</th>\n",
       "      <td>2012-10-09 05:30:48.846</td>\n",
       "      <td>1621.536</td>\n",
       "      <td>-1820.875</td>\n",
       "      <td>2207.971</td>\n",
       "      <td>-0.54</td>\n",
       "    </tr>\n",
       "    <tr>\n",
       "      <th>3921</th>\n",
       "      <td>2013-09-15 23:05:32.826</td>\n",
       "      <td>1600.505</td>\n",
       "      <td>-1835.201</td>\n",
       "      <td>2194.560</td>\n",
       "      <td>0.13</td>\n",
       "    </tr>\n",
       "    <tr>\n",
       "      <th>2664</th>\n",
       "      <td>2012-10-10 14:34:42.771</td>\n",
       "      <td>1585.265</td>\n",
       "      <td>-1848.612</td>\n",
       "      <td>2208.276</td>\n",
       "      <td>-0.67</td>\n",
       "    </tr>\n",
       "    <tr>\n",
       "      <th>3911</th>\n",
       "      <td>2013-09-15 19:55:27.488</td>\n",
       "      <td>1581.912</td>\n",
       "      <td>-1842.211</td>\n",
       "      <td>2201.875</td>\n",
       "      <td>0.25</td>\n",
       "    </tr>\n",
       "  </tbody>\n",
       "</table>\n",
       "</div>"
      ],
      "text/plain": [
       "                       event_time  Latitude  Longitude   Depthkm  magnitude\n",
       "NORSAR_ID                                                                  \n",
       "2636      2012-10-07 21:42:31.324  1613.611  -1833.372  2213.762      -0.34\n",
       "2647      2012-10-09 05:30:48.846  1621.536  -1820.875  2207.971      -0.54\n",
       "3921      2013-09-15 23:05:32.826  1600.505  -1835.201  2194.560       0.13\n",
       "2664      2012-10-10 14:34:42.771  1585.265  -1848.612  2208.276      -0.67\n",
       "3911      2013-09-15 19:55:27.488  1581.912  -1842.211  2201.875       0.25"
      ]
     },
     "execution_count": 3,
     "metadata": {},
     "output_type": "execute_result"
    }
   ],
   "source": [
    "reduced_catalogue = raw_catalogue[['SLB origin time', 'SLB northing (m)', 'SLB easting (m)', 'SLB depth (m)', 'SLB magnitude (Mw)']].copy()\n",
    "reduced_catalogue = reduced_catalogue.rename(columns={'SLB origin time':'event_time', 'SLB northing (m)':'Latitude', 'SLB easting (m)': 'Longitude', 'SLB depth (m)': 'Depthkm', 'SLB magnitude (Mw)':'magnitude'})\n",
    "reduced_catalogue.head()"
   ]
  },
  {
   "cell_type": "code",
   "execution_count": 4,
   "metadata": {},
   "outputs": [
    {
     "name": "stdout",
     "output_type": "stream",
     "text": [
      "2011-12-15 00:57:20.746000 2018-07-02 00:39:13.613000\n"
     ]
    }
   ],
   "source": [
    "print(reduced_catalogue.event_time.min(), reduced_catalogue.event_time.max())"
   ]
  },
  {
   "cell_type": "code",
   "execution_count": 5,
   "metadata": {},
   "outputs": [
    {
     "name": "stdout",
     "output_type": "stream",
     "text": [
      "Latitude: -893.064 to 2214.982\n",
      "Longitude: -2252.472 to 1204.57\n",
      "Depth: 1834.896 to 2271.065\n"
     ]
    }
   ],
   "source": [
    "print(f'Latitude: {reduced_catalogue.Latitude.min()} to {reduced_catalogue.Latitude.max()}')\n",
    "print(f'Longitude: {reduced_catalogue.Longitude.min()} to {reduced_catalogue.Longitude.max()}')\n",
    "print(f'Depth: {reduced_catalogue.Depthkm.min()} to {reduced_catalogue.Depthkm.max()}')"
   ]
  },
  {
   "cell_type": "code",
   "execution_count": 6,
   "metadata": {},
   "outputs": [],
   "source": [
    "geo_bounds = {'lat_min': -2000,\n",
    "            'lat_max': 2000,\n",
    "            'long_min': -2000,\n",
    "            'long_max': 2000,\n",
    "            'depth_min': 1500,\n",
    "            'depth_max': 2500,\n",
    "            'step_l': 200,\n",
    "            'step_d': 50}"
   ]
  },
  {
   "cell_type": "code",
   "execution_count": 7,
   "metadata": {},
   "outputs": [],
   "source": [
    "data_catalogue = Catalogue(catalogue = reduced_catalogue, geo_bounds=geo_bounds)\n",
    "data_catalogue.index_cubes()"
   ]
  },
  {
   "cell_type": "code",
   "execution_count": 8,
   "metadata": {},
   "outputs": [
    {
     "data": {
      "image/png": "[encoded data removed]",
      "text/plain": [
       "<Figure size 640x480 with 9 Axes>"
      ]
     },
     "metadata": {},
     "output_type": "display_data"
    }
   ],
   "source": [
    "data_catalogue.reduced_catalogue[['Latitude', 'Longitude', 'Depthkm', 'magnitude', 'lat_id',\n",
    "       'long_id', 'depth_id']].hist()\n",
    "plt.tight_layout()"
   ]
  },
  {
   "attachments": {},
   "cell_type": "markdown",
   "metadata": {},
   "source": [
    "### Time series and distance matrix preparation"
   ]
  },
  {
   "cell_type": "code",
   "execution_count": 9,
   "metadata": {},
   "outputs": [],
   "source": [
    "def index_1d(row:pd.Series, max_lat:int, max_long:int) -> int:\n",
    "    #Retrun index\n",
    "    return int(row['lat_id'] + max_lat * row['long_id'] + max_lat * max_long * row['depth_id'])"
   ]
  },
  {
   "cell_type": "code",
   "execution_count": 10,
   "metadata": {},
   "outputs": [],
   "source": [
    "# distance_matrices = []\n",
    "# time_ranges = [1, 0.5, 0.125]\n",
    "\n",
    "# for t, time_range in enumerate(time_ranges):\n",
    "#     start_date = data_catalogue.reduced_catalogue.event_time.min()\n",
    "#     data_catalogue.reduced_catalogue['year'] = reduced_catalogue.apply(lambda row: row.event_time.year, axis=1)\n",
    "#     data_catalogue.reduced_catalogue['month'] = reduced_catalogue.apply(lambda row: row.event_time.month, axis=1)\n",
    "#     data_catalogue.reduced_catalogue['day_id'] = reduced_catalogue.apply(lambda row: int((row.event_time-start_date).days // time_range), axis=1)\n",
    "\n",
    "#     df_density = data_catalogue.compile_dataset_days()\n",
    "\n",
    "#     lat_max = len(data_catalogue.lat_range)\n",
    "#     long_max = len(data_catalogue.long_range)\n",
    "\n",
    "#     df_density['index_1D'] = df_density.apply(lambda row: index_1d(row, lat_max, long_max), axis=1)\n",
    "\n",
    "#     # preallocation of results - in the output array each row corresponds to one cube, and each columt to one month\n",
    "#     result = np.zeros((len(data_catalogue.lat_range)*len(data_catalogue.long_range)*len(data_catalogue.depth_range), df_density['period'].max()))\n",
    "\n",
    "#     print(f\"Time series: \")\n",
    "#     for i, index in tqdm(enumerate(df_density['index_1D'].unique())):\n",
    "\n",
    "    \n",
    "#         selected_data = df_density[df_density['index_1D'] == index]\n",
    "\n",
    "#         for ii in range(df_density['period'].max()):\n",
    "\n",
    "#             if selected_data[selected_data['period'] == ii].empty:\n",
    "#                 continue\n",
    "#             else:\n",
    "#                 month_data = selected_data[selected_data['period'] == ii]\n",
    "#                 result[index, ii] = month_data.iloc[0, 3]\n",
    "\n",
    "#     data_catalogue.time_series_array = result.astype('int32')\n",
    "\n",
    "#     if distance_matrices is None:\n",
    "#         distance_matrices = data_catalogue.distance_matrix()\n",
    "#     else:\n",
    "#         distance_matrices.append(data_catalogue.distance_matrix())\n",
    "    \n",
    "#     np.savetxt(f'ditance_matrix_{time_range}', distance_matrices[t])\n",
    "#     np.savetxt(f'time_series_{time_range}', result.astype('int32'))"
   ]
  },
  {
   "attachments": {},
   "cell_type": "markdown",
   "metadata": {},
   "source": [
    "### Old plots"
   ]
  },
  {
   "attachments": {},
   "cell_type": "markdown",
   "metadata": {},
   "source": [
    "Plot them on the same graph"
   ]
  },
  {
   "cell_type": "code",
   "execution_count": 11,
   "metadata": {},
   "outputs": [],
   "source": [
    "# plt.figure(figsize=(12,8))\n",
    "# for index in (df_density['index_1D'].unique()):\n",
    "#     plt.plot(time_series[index, :], alpha=0.5)"
   ]
  },
  {
   "cell_type": "code",
   "execution_count": 12,
   "metadata": {},
   "outputs": [],
   "source": [
    "# X_mesh, Y_mesh = np.meshgrid(data_catalogue.long_range[:-1], data_catalogue.lat_range[:-1])\n",
    "# hist, x_edges, y_edges = np.histogram2d(data_catalogue.reduced_catalogue['Longitude'], data_catalogue.reduced_catalogue['Latitude'], bins=(data_catalogue.long_range, data_catalogue.lat_range))\n",
    "\n",
    "# plt.contourf(X_mesh, Y_mesh, np.log10(hist), cmap='jet', vmin=0, vmax=3)\n",
    "# plt.colorbar()\n",
    "# plt.show()\n",
    "\n",
    "# x_range, y_range = range(len(data_catalogue.long_range)), range(len(data_catalogue.lat_range))\n",
    "# X_mesh, Y_mesh = np.meshgrid(x_range[:-1], y_range[:-1])\n",
    "\n",
    "# hist, x_edges, y_edges = np.histogram2d(df_density['long_id'], df_density['lat_id'], bins=(x_range, y_range))\n",
    "\n",
    "# plt.contourf(X_mesh, Y_mesh, hist, cmap='jet', vmin=0)\n",
    "# plt.colorbar()\n",
    "# plt.show()"
   ]
  },
  {
   "attachments": {},
   "cell_type": "markdown",
   "metadata": {},
   "source": [
    "### Clustering evaluation\n",
    "\n",
    "1. Start with 4 configs - 3h, 12h, 24h, 72h\n",
    "2. Clustering based on DTH\n",
    "3. Check the silhouette coefficient to determine the no clusters and which config is better\n",
    "4. Try to retrieve information on the injections and well positions (either the website or the paper)"
   ]
  },
  {
   "cell_type": "code",
   "execution_count": 13,
   "metadata": {},
   "outputs": [],
   "source": [
    "# Load distance matrices\n",
    "distance_matrices = {}\n",
    "keys = ['72h', '24h', '12h', '3h']\n",
    "file_path = r'..\\data\\illinois_basin\\clustering_evaluation\\distance_matrix'\n",
    "\n",
    "for i, file_name in enumerate(os.listdir(file_path)):\n",
    "\n",
    "    with open(os.path.join(file_path, file_name), 'rb') as dm :\n",
    "        distance_matrices[keys[i]] = pickle.load(dm)"
   ]
  },
  {
   "cell_type": "code",
   "execution_count": 14,
   "metadata": {},
   "outputs": [],
   "source": [
    "search_params = {'threshold' : np.arange(2, 15, 1),\n",
    "                 'method': ['ward', 'average'],\n",
    "                 'reduce': [False]}"
   ]
  },
  {
   "cell_type": "code",
   "execution_count": 15,
   "metadata": {},
   "outputs": [],
   "source": [
    "# clustering_scores = {}\n",
    "\n",
    "# for i, key in enumerate(distance_matrices):\n",
    "    \n",
    "#     eval = EvaluateClustering(ScipyHierarchy, distance_matrices[key])\n",
    "#     clustering_scores[key] = eval.grid_search_clustering(search_params)"
   ]
  },
  {
   "cell_type": "code",
   "execution_count": 16,
   "metadata": {},
   "outputs": [],
   "source": [
    "# clustering_scores[keys[3]].sort_values(by='score_sil', ascending = False)"
   ]
  },
  {
   "cell_type": "code",
   "execution_count": 17,
   "metadata": {},
   "outputs": [],
   "source": [
    "# for i, key in enumerate(clustering_scores):\n",
    "\n",
    "#     clustering_scores[key].to_csv('clustering_scores_' + key)"
   ]
  },
  {
   "cell_type": "code",
   "execution_count": 18,
   "metadata": {},
   "outputs": [],
   "source": [
    "# Load distance matrices\n",
    "distance_matrices = {}\n",
    "keys = ['72h', '24h', '12h', '3h']\n",
    "file_path = r'..\\data\\illinois_basin\\clustering_evaluation\\distance_matrix'\n",
    "\n",
    "for i, file_name in enumerate(os.listdir(file_path)):\n",
    "\n",
    "    with open(os.path.join(file_path, file_name), 'rb') as dm :\n",
    "        distance_matrices[keys[i]] = pickle.load(dm)"
   ]
  },
  {
   "attachments": {},
   "cell_type": "markdown",
   "metadata": {},
   "source": [
    "### eq-nodes time series clustering\n",
    "\n",
    "1. Extract the time series and save in pkl\n",
    "2. Save eq-nodes indices\n",
    "3. Get rid of zero-nodes\n",
    "4. Recompile distance matrices\n",
    "5. Reevaluate clustering"
   ]
  },
  {
   "cell_type": "code",
   "execution_count": 19,
   "metadata": {},
   "outputs": [],
   "source": [
    "# Load distance matrices\n",
    "time_series = {}\n",
    "keys = ['72h', '24h', '12h', '3h']\n",
    "file_path = r'..\\data\\illinois_basin\\clustering_evaluation\\time_series'\n",
    "\n",
    "for i, file_name in enumerate(os.listdir(file_path)):\n",
    "\n",
    "    with open(os.path.join(file_path, file_name), 'rb') as dm :\n",
    "        time_series[keys[i]] = pickle.load(dm)"
   ]
  },
  {
   "cell_type": "code",
   "execution_count": 20,
   "metadata": {},
   "outputs": [],
   "source": [
    "all_nodes = np.arange(len(time_series[keys[0]]))\n",
    "eq_nodes = all_nodes[np.sum(time_series[keys[0]], axis=1) > 0]"
   ]
  },
  {
   "cell_type": "code",
   "execution_count": 22,
   "metadata": {},
   "outputs": [],
   "source": [
    "time_series_eq_nodes = {}\n",
    "\n",
    "for key, time_series_array in time_series.items():\n",
    "    time_series_eq_nodes[key] = time_series_array[eq_nodes]"
   ]
  },
  {
   "attachments": {},
   "cell_type": "markdown",
   "metadata": {},
   "source": [
    "Produce distance matrix"
   ]
  },
  {
   "cell_type": "code",
   "execution_count": 24,
   "metadata": {},
   "outputs": [
    {
     "name": "stderr",
     "output_type": "stream",
     "text": [
      "100%|██████████| 322/322 [00:00<00:00, 542.89it/s]\n",
      "100%|██████████| 322/322 [00:00<00:00, 455.19it/s]\n",
      "100%|██████████| 322/322 [00:00<00:00, 366.21it/s]\n",
      "100%|██████████| 322/322 [00:01<00:00, 226.83it/s]\n"
     ]
    }
   ],
   "source": [
    "distance_matrices_eq_nodes = {}\n",
    "\n",
    "for key, time_series_array in time_series_eq_nodes.items():\n",
    "\n",
    "    data_catalogue.time_series_array = time_series_array\n",
    "    distance_matrices_eq_nodes[key] = data_catalogue.distance_matrix()"
   ]
  },
  {
   "attachments": {},
   "cell_type": "markdown",
   "metadata": {},
   "source": [
    "Evaluate clustering"
   ]
  },
  {
   "cell_type": "code",
   "execution_count": 33,
   "metadata": {},
   "outputs": [
    {
     "name": "stderr",
     "output_type": "stream",
     "text": [
      "100%|██████████| 52/52 [00:00<00:00, 184.07it/s]\n",
      "100%|██████████| 52/52 [00:00<00:00, 190.60it/s]\n",
      "100%|██████████| 52/52 [00:00<00:00, 199.16it/s]\n",
      "100%|██████████| 52/52 [00:00<00:00, 201.64it/s]\n"
     ]
    }
   ],
   "source": [
    "search_params = {'threshold' : np.arange(2, 15, 1),\n",
    "                 'method': ['ward', 'average', 'single', 'complete'],\n",
    "                 'reduce': [False]}\n",
    "\n",
    "clustering_scores = {}\n",
    "\n",
    "for i, key in enumerate(distance_matrices_eq_nodes):\n",
    "    \n",
    "    eval = EvaluateClustering(ScipyHierarchy, distance_matrices_eq_nodes[key])\n",
    "    clustering_scores[key] = eval.grid_search_clustering(search_params)"
   ]
  },
  {
   "cell_type": "code",
   "execution_count": 35,
   "metadata": {},
   "outputs": [],
   "source": [
    "for i, key in enumerate(clustering_scores):\n",
    "\n",
    "    clustering_scores[key].to_csv(f'clustering_scores_eq_nodes_{key}.csv')"
   ]
  },
  {
   "cell_type": "code",
   "execution_count": 54,
   "metadata": {},
   "outputs": [
    {
     "data": {
      "text/plain": [
       "0.531055900621118"
      ]
     },
     "execution_count": 54,
     "metadata": {},
     "output_type": "execute_result"
    }
   ],
   "source": [
    "np.sum(np.sum(time_series_eq_nodes['72h'], axis = 1) > 2) / len(time_series_eq_nodes['72h'])"
   ]
  },
  {
   "cell_type": "code",
   "execution_count": null,
   "metadata": {},
   "outputs": [],
   "source": []
  }
 ],
 "metadata": {
  "kernelspec": {
   "display_name": "geysers",
   "language": "python",
   "name": "python3"
  },
  "language_info": {
   "codemirror_mode": {
    "name": "ipython",
    "version": 3
   },
   "file_extension": ".py",
   "mimetype": "text/x-python",
   "name": "python",
   "nbconvert_exporter": "python",
   "pygments_lexer": "ipython3",
   "version": "3.10.9"
  },
  "orig_nbformat": 4
 },
 "nbformat": 4,
 "nbformat_minor": 2
}
